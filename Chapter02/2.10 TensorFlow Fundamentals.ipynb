{
 "cells": [
  {
   "cell_type": "markdown",
   "metadata": {},
   "source": [
    "# TensorFlow"
   ]
  },
  {
   "cell_type": "markdown",
   "metadata": {},
   "source": [
    "TensorFlow is an open source software library by Google which is extensively used for\n",
    "numerical computation. It uses data flow graphs which can be shared and executed on\n",
    "many different platforms. \n",
    "\n",
    "It is widely used for building deep learning models which is a\n",
    "subset of machine learning. Tensor is nothing but a multidimensional array, so when we\n",
    "say tensorflow ,it is literally a flow of multi-dimensional arrays (tensor) in the computation\n",
    "graph.\n",
    "With Anaconda installed, installing tensorflow has become very simple. Irrespective of the\n",
    "platform you are using, you can easily install tensorflow by typing the following command.\n",
    "\n",
    "\n",
    "<br>\n",
    "source activate universe\n",
    "\n",
    "conda install -c conda-forge tensorflow"
   ]
  },
  {
   "cell_type": "markdown",
   "metadata": {},
   "source": [
    " We can check successful tensorflow installation by simply running the following hello\n",
    "world program.\n"
   ]
  },
  {
   "cell_type": "code",
   "execution_count": 8,
   "metadata": {},
   "outputs": [
    {
     "data": {
      "text/plain": [
       "b'Hello World'"
      ]
     },
     "execution_count": 8,
     "metadata": {},
     "output_type": "execute_result"
    }
   ],
   "source": [
    "import warnings\n",
    "warnings.filterwarnings('ignore')\n",
    "import tensorflow as tf\n",
    "hello = tf.constant(\"Hello World\")\n",
    "hello.numpy()"
   ]
  },
  {
   "cell_type": "markdown",
   "metadata": {},
   "source": [
    "## Variables, Constants, and Placeholders\n",
    "\n",
    "\n",
    "Variables, constants, placeholders are the fundamental elements of tensorflow. However,\n",
    "there is always a confusion between these three. Let us see each element one by one and\n",
    "learn the difference between them."
   ]
  },
  {
   "cell_type": "markdown",
   "metadata": {},
   "source": [
    "\n",
    "### Variables\n",
    " Variables are the containers used to store values. Variables will be used as input to several\n",
    "other operations in the computation graph. We can create tensorflow variables using\n",
    "tf.Variable() function. In the below example, we define a variable with values from a\n",
    "random normal distribution and name it as weights.\n",
    "\n",
    "\n",
    "\n"
   ]
  },
  {
   "cell_type": "code",
   "execution_count": 12,
   "metadata": {},
   "outputs": [
    {
     "data": {
      "text/plain": [
       "<tf.Variable 'weights:0' shape=(3, 2) dtype=float32, numpy=\n",
       "array([[-0.03004928, -0.05090728],\n",
       "       [ 0.03124589,  0.04763854],\n",
       "       [-0.15091556,  0.01339906]], dtype=float32)>"
      ]
     },
     "execution_count": 12,
     "metadata": {},
     "output_type": "execute_result"
    }
   ],
   "source": [
    "weights = tf.Variable(tf.random.normal([3, 2], stddev=0.1), name=\"weights\")\n",
    "weights"
   ]
  },
  {
   "cell_type": "markdown",
   "metadata": {},
   "source": [
    " However, after defining a variable, we need to explicitly create an initialization operation\n",
    "using tf.global_variables_initializer() method which will allocate resources for\n",
    "the variable."
   ]
  },
  {
   "cell_type": "markdown",
   "metadata": {},
   "source": [
    "### Constants\n",
    "\n",
    " Constants, unlike variables, their values cannot be changed. Constant are immutable once\n",
    "they are assigned values they cannot be changed throughout. we can create constant using\n",
    "tf.constant() function.\n"
   ]
  },
  {
   "cell_type": "code",
   "execution_count": 15,
   "metadata": {},
   "outputs": [
    {
     "data": {
      "text/plain": [
       "13"
      ]
     },
     "execution_count": 15,
     "metadata": {},
     "output_type": "execute_result"
    }
   ],
   "source": [
    "x = tf.constant(13)\n",
    "x.numpy()"
   ]
  },
  {
   "cell_type": "markdown",
   "metadata": {},
   "source": [
    "### Placeholders\n",
    "\n",
    "Think of placeholders as a variable where you only define the type and dimension but will\n",
    "not assign the value. Placeholders are defined with no values. values for the placeholders\n",
    "will be fed at the runtime. Placeholders have an optional argument called shape which\n",
    "specifies the dimensions of the data. If the shape is set to none then we can feed data of any\n",
    "size at runtime. Placeholders can be defined using tf.placeholder() function\n"
   ]
  },
  {
   "cell_type": "code",
   "execution_count": 18,
   "metadata": {},
   "outputs": [],
   "source": [
    "# not in TF 2.0\n",
    "# x = tf.placeholder(\"float\", shape=None)"
   ]
  },
  {
   "cell_type": "markdown",
   "metadata": {},
   "source": [
    "To put in simple terms, we use tf.variable to store the data and tf.placeholder for\n",
    "feeding the external data."
   ]
  },
  {
   "cell_type": "markdown",
   "metadata": {},
   "source": [
    "## Computation Graph\n",
    "\n",
    " Everything in tensorflow will be represented as a computation graph which consists of\n",
    "nodes and edges, where nodes are the mathematical operations, say addition,\n",
    "multiplication etc.. and edges are the tensors. Having computational graph is very efficient\n",
    "in optimizing resources and it also promotes distributed computing.\n",
    "\n",
    "Say we have node B whose input is dependent on the output of node A this type of\n",
    "dependency is called direct dependency."
   ]
  },
  {
   "cell_type": "code",
   "execution_count": 19,
   "metadata": {},
   "outputs": [],
   "source": [
    "A = tf.multiply(8,5)\n",
    "B = tf.multiply(A,1)"
   ]
  },
  {
   "cell_type": "markdown",
   "metadata": {},
   "source": [
    "When node B doesn't depend on node A for its input it is called indirect dependency"
   ]
  },
  {
   "cell_type": "code",
   "execution_count": 20,
   "metadata": {},
   "outputs": [],
   "source": [
    "A = tf.multiply(8,5)\n",
    "B = tf.multiply(4,3)"
   ]
  },
  {
   "cell_type": "markdown",
   "metadata": {},
   "source": [
    " So if we can understand these dependencies, we can distribute the independent\n",
    "computations in available resources and reduce the computation time.\n",
    "Whenever we import tensorflow, automatically default graph will be created and all nodes\n",
    "we create will get associated with the default graph."
   ]
  },
  {
   "cell_type": "markdown",
   "metadata": {},
   "source": [
    "## Sessions\n",
    "\n",
    "Computation graphs will only be defined, in order to execute the computation graph we\n",
    "use tensorflow sessions.\n",
    "sess = tf.Session()\n",
    "We can create the session for our computation graph using tf.Session() method which\n",
    "will allocate the memory for storing the current value of the variable. After creating the\n",
    "session, we can execute our graph using sess.run() method.\n",
    "In order to run anything in tensorflow, we need to start the tensorflow session for an\n",
    "instance, look at the below code,\n"
   ]
  },
  {
   "cell_type": "code",
   "execution_count": 23,
   "metadata": {},
   "outputs": [
    {
     "data": {
      "text/plain": [
       "6"
      ]
     },
     "execution_count": 23,
     "metadata": {},
     "output_type": "execute_result"
    }
   ],
   "source": [
    "import tensorflow as tf\n",
    "a = tf.multiply(2,3)\n",
    "a.numpy()"
   ]
  },
  {
   "cell_type": "markdown",
   "metadata": {},
   "source": [
    "It will print tensorflow object instead of 6. Because as already said, whenever we import\n",
    "tensorflow a default computation graph will be automatically created and all nodes which\n",
    "we create will get attached to the graph. In order to execute the graph, we need to\n",
    "initialize tensorflow session as follows,"
   ]
  },
  {
   "cell_type": "code",
   "execution_count": 24,
   "metadata": {},
   "outputs": [
    {
     "data": {
      "text/plain": [
       "6"
      ]
     },
     "execution_count": 24,
     "metadata": {},
     "output_type": "execute_result"
    }
   ],
   "source": [
    "import tensorflow as tf\n",
    "a = tf.multiply(2,3)\n",
    "a.numpy()\n",
    "\n",
    "# not in TF 2.0\n",
    "#create tensorflow session for executing the session\n",
    "# with tf.Session() as sess:\n",
    "#  #run the session\n",
    "#  print(sess.run(a))"
   ]
  },
  {
   "cell_type": "code",
   "execution_count": null,
   "metadata": {},
   "outputs": [],
   "source": []
  }
 ],
 "metadata": {
  "kernelspec": {
   "display_name": "hands-on-book",
   "language": "python",
   "name": "hands-on-book"
  },
  "language_info": {
   "codemirror_mode": {
    "name": "ipython",
    "version": 3
   },
   "file_extension": ".py",
   "mimetype": "text/x-python",
   "name": "python",
   "nbconvert_exporter": "python",
   "pygments_lexer": "ipython3",
   "version": "3.8.5"
  }
 },
 "nbformat": 4,
 "nbformat_minor": 2
}
